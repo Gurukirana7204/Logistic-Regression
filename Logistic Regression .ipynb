{
 "cells": [
  {
   "cell_type": "markdown",
   "id": "06b3a43c-7e36-4bff-ad86-517f4da60e24",
   "metadata": {},
   "source": [
    "Assignment Questions\n"
   ]
  },
  {
   "cell_type": "markdown",
   "id": "8f33dd6f-f112-4ca0-847d-452b35c98285",
   "metadata": {},
   "source": [
    "Theoretical\n"
   ]
  },
  {
   "cell_type": "markdown",
   "id": "50523850-9ed4-480b-9c93-a1ab279e303a",
   "metadata": {},
   "source": [
    "1).What is Logistic Regression, and how does it differ from Linear Regression."
   ]
  },
  {
   "cell_type": "markdown",
   "id": "a2d35a0f-b118-44cd-88a0-1a5faa2353d6",
   "metadata": {},
   "source": [
    "    Linear Regression:\n",
    "\n",
    "Purpose:\n",
    "Used to predict a continuous numerical output. For example, predicting house prices, temperature, or sales figures.   \n",
    "It models the relationship between independent variables and a dependent variable by fitting a straight line to the data.   \n",
    "\n",
    "Output:\n",
    "Produces a continuous value.   \n",
    "\n",
    "Use Case:\n",
    "When you want to estimate a quantity.\n",
    "\n",
    "    Logistic Regression:\n",
    "\n",
    "Purpose:\n",
    "Used for classification problems, where the goal is to predict a categorical outcome. Often, this is a binary classification (e.g., yes/no, true/false). For example, predicting whether an email is spam or not, or whether a customer will click on an ad.   \n",
    "It models the probability of a certain class or event occurring.   \n",
    "\n",
    "Output:\n",
    "Produces a probability value, which is then often used to classify data into categories.   \n",
    "\n",
    "Use Case:\n",
    "When you want to classify data into distinct categories."
   ]
  },
  {
   "cell_type": "code",
   "execution_count": null,
   "id": "6079e9cf-2a80-4a30-8291-4811eaf67f07",
   "metadata": {},
   "outputs": [],
   "source": []
  },
  {
   "cell_type": "markdown",
   "id": "926ac480-c9dd-453e-8ddf-5a56a1f5e372",
   "metadata": {},
   "source": [
    "2). What is the mathematical equation of Logistic Regression.\n"
   ]
  },
  {
   "cell_type": "markdown",
   "id": "a371ccf8-128c-464e-b6f0-75fcd1fea10a",
   "metadata": {},
   "source": [
    "1. Linear Component:\n",
    "\n",
    "Like linear regression, logistic regression starts with a linear combination of input features:\n",
    " \"z = β₀ + β₁x₁ + β₂x₂ + ... + βnxn\"\n",
    "\n",
    "Where:\n",
    "z is the linear combination.\n",
    "β₀ is the intercept.\n",
    "β₁, β₂, ..., βn are the coefficients for the features.\n",
    "x₁, x₂, ..., xn are the input features.\n",
    "  \n",
    "\n",
    "2. Sigmoid Function:\n",
    "\n",
    "However, logistic regression aims to predict probabilities, which must be between 0 and 1. To achieve this, it applies the sigmoid function (also called the logistic function) to the linear combination:\n",
    " \"σ(z) = 1 / (1 + e^(-z))\" \n",
    "\n",
    "Where:\n",
    "σ(z) is the probability of the outcome being 1.\n",
    "e is Euler's number (approximately 2.71828).\n",
    "  \n",
    "\n",
    "3. Combining the Equations:\n",
    "\n",
    "By substituting the linear component into the sigmoid function, we get the complete logistic regression equation:\n",
    " \"P(y=1) = 1 / (1 + e^(-(β₀ + β₁x₁ + β₂x₂ + ... + βnxn)))\" \n",
    "\n",
    "Where:\n",
    "P(y=1) is the probability that the dependent variable y is 1."
   ]
  },
  {
   "cell_type": "code",
   "execution_count": null,
   "id": "2bfd6138-b5ce-4b2c-9655-9ee02191d2ba",
   "metadata": {},
   "outputs": [],
   "source": []
  },
  {
   "cell_type": "markdown",
   "id": "d6001b49-6f19-40ae-8da9-ee0b61cd0134",
   "metadata": {},
   "source": [
    "3). Why do we use the Sigmoid function in Logistic Regression."
   ]
  },
  {
   "cell_type": "markdown",
   "id": "dae7b42f-17f1-4604-9050-8d6865a6bc0a",
   "metadata": {},
   "source": [
    "1. Mapping to Probabilities:\n",
    "\n",
    "Logistic regression aims to predict the probability of a data point belonging to a particular class. Probabilities, by definition, must fall within the range of 0 to 1.   \n",
    "The sigmoid function, with its \"S\"-shaped curve, conveniently maps any real number input to a value between 0 and 1. This makes it ideal for transforming the output of the linear combination of features into a probability.   \n",
    "\n",
    "2. Binary Classification:\n",
    "\n",
    "Logistic regression is frequently used for binary classification, where there are only two possible outcomes. The sigmoid function's output can be interpreted as the probability of the positive class.   \n",
    "A threshold (often 0.5) is then used to classify the data point. If the sigmoid output is greater than the threshold, the point is assigned to one class; otherwise, it's assigned to the other.   \n",
    "\n",
    "3. Mathematical Properties:\n",
    "\n",
    "The sigmoid function is differentiable, which is essential for optimization algorithms like gradient descent. These algorithms are used to find the optimal coefficients for the logistic regression model.   \n",
    "Also the shape of the sigmoid function lends itself well to showing strong distinctions between data that is easily classified."
   ]
  },
  {
   "cell_type": "code",
   "execution_count": null,
   "id": "ace4e8f6-f511-49c8-a214-a1fc46a12b72",
   "metadata": {},
   "outputs": [],
   "source": []
  },
  {
   "cell_type": "markdown",
   "id": "4f39bf37-916e-465b-b1b3-1b03e05616b0",
   "metadata": {},
   "source": [
    "4). What is the cost function of Logistic Regression.\n"
   ]
  },
  {
   "cell_type": "markdown",
   "id": "8c32a444-19ec-418e-84aa-8cbc4c790a3a",
   "metadata": {},
   "source": [
    "In logistic regression, the goal is to find the model parameters that best predict the probability of a certain outcome. To achieve this, we need a cost function that measures how well our model is performing. Unlike linear regression, which typically uses the mean squared error, logistic regression uses a cost function called \"log loss\" or \"cross-entropy loss.\"\n",
    "\n",
    "The Log Loss (Cross-Entropy Loss) Function:\n",
    "\n",
    "The log loss function is designed to be convex, ensuring that there's a single global minimum. It's defined as follows:   \n",
    "\n",
    "For a single training example:\n",
    "\n",
    "If y = 1: Cost(h(x), y) = -log(h(x))\n",
    "\n",
    "If y = 0: Cost(h(x), y) = -log(1 - h(x)"
   ]
  },
  {
   "cell_type": "code",
   "execution_count": null,
   "id": "4af0324b-7888-41c6-9035-a109f333079e",
   "metadata": {},
   "outputs": [],
   "source": []
  },
  {
   "cell_type": "code",
   "execution_count": null,
   "id": "cceb5f14-34ba-4b06-a8a0-d86e3432dd1b",
   "metadata": {},
   "outputs": [],
   "source": [
    "5). What is Regularization in Logistic Regression? Why is it needed.\n"
   ]
  },
  {
   "cell_type": "markdown",
   "id": "fecdeb84-fd4c-4f92-8b31-b4826613fb72",
   "metadata": {},
   "source": [
    "Regularization in logistic regression, as in other machine learning models, is a technique used to prevent overfitting. Here's a breakdown of what it is and why it's essential:   \n",
    "\n",
    "What is Regularization?\n",
    "\n",
    "Essentially, regularization involves adding a penalty term to the cost function of the logistic regression model. This penalty discourages the model from assigning excessively large coefficients to the features.   \n",
    "By constraining the size of the coefficients, regularization helps to simplify the model, making it less prone to fitting the noise in the training data\n",
    "\n",
    "Why is it Needed?\n",
    "\n",
    "Overfitting:\n",
    "\n",
    "Improving Generalization:\n",
    "\n",
    "Handling Multicollinearity:\n"
   ]
  },
  {
   "cell_type": "code",
   "execution_count": null,
   "id": "b105f1ee-f094-4ad7-9ea9-ebb665088e88",
   "metadata": {},
   "outputs": [],
   "source": []
  },
  {
   "cell_type": "markdown",
   "id": "f0d719d5-81f1-4e8e-9b79-d0c416d6ace6",
   "metadata": {},
   "source": [
    "6). Explain the difference between Lasso, Ridge, and Elastic Net regressionC\n"
   ]
  },
  {
   "cell_type": "markdown",
   "id": "09d3987c-64e7-4131-93c9-0c9578d5d81c",
   "metadata": {},
   "source": [
    "When dealing with linear regression models, especially in situations with many features or potential overfitting, regularization becomes crucial. Lasso, Ridge, and Elastic Net are three popular regularization techniques, each with its own approach. Here's a breakdown of their differences:   \n",
    "\n",
    "1. Ridge Regression (L2 Regularization):\n",
    "\n",
    "Penalty:\n",
    "\n",
    "Adds a penalty term proportional to the square of the magnitude of the coefficients.   \n",
    "\n",
    "Effect:\n",
    "\n",
    "Shrinks the coefficients towards zero, but rarely forces them to be exactly zero.   \n",
    "Reduces the impact of less important features, but retains all of them in the model.   \n",
    "Effective in reducing multicollinearity (high correlation between features).   \n",
    "\n",
    "Use Case:\n",
    "\n",
    "Useful when you have many features, and you believe most of them are relevant.\n",
    "Good for preventing overfitting when you want to keep all features.\n",
    "\n",
    "2. Lasso Regression (L1 Regularization):\n",
    "\n",
    "Penalty:\n",
    "\n",
    "Adds a penalty term proportional to the absolute value of the magnitude of the coefficients.   \n",
    "\n",
    "Effect:\n",
    "\n",
    "Can shrink some coefficients to exactly zero, effectively performing feature selection.   \n",
    "Creates a sparse model, meaning it includes only the most important features.   \n",
    "Useful for simplifying the model and improving interpretability.   \n",
    "\n",
    "Use Case:\n",
    "\n",
    "Ideal when you suspect that only a subset of features is truly important.\n",
    "Helpful for automatic feature selection.   \n",
    "\n",
    "3. Elastic Net Regression:\n",
    "\n",
    "Penalty:\n",
    "\n",
    "Combines both L1 and L2 penalties. It's a linear combination of the Lasso and Ridge penalties.   \n",
    "\n",
    "Effect:\n",
    "\n",
    "Provides a balance between the feature selection of Lasso and the coefficient shrinkage of Ridge.   \n",
    "Can handle situations where there are highly correlated features more effectively than Lasso alone."
   ]
  },
  {
   "cell_type": "code",
   "execution_count": null,
   "id": "f4453978-48ae-46f2-a9bd-9a918f5bbad2",
   "metadata": {},
   "outputs": [],
   "source": []
  },
  {
   "cell_type": "markdown",
   "id": "ad96eaa3-5c03-4c0e-9421-9795f60baaee",
   "metadata": {},
   "source": [
    "7. When should we use Elastic Net instead of Lasso or Ridge?\n",
    "\n",
    "High Feature Correlation:\n",
    "\n",
    "When you have many features, and some of them are highly correlated, Elastic Net tends to perform better than Lasso. Lasso might arbitrarily select one feature from a group of correlated features and discard the others, while Elastic Net will typically select groups of correlated features.   \n",
    "\n",
    "Balancing Feature Selection and Coefficient Shrinkage:\n",
    "\n",
    "If you want to combine the feature selection capabilities of Lasso with the coefficient shrinkage of Ridge, Elastic Net is a good choice. It provides a balance between these two approaches.   \n",
    "\n",
    "Uncertainty about Feature Importance:\n",
    "\n",
    "When you're unsure whether all features are relevant or if only a subset is important, Elastic Net offers a robust approach. It helps to reduce the impact of less important features while still retaining potentially valuable ones.\n",
    "\n",
    "When Lasso is too sensitive to the data:\n",
    "\n",
    "Lasso can be very sensative to the data, and may have high variance. Elastic net reduces this variance."
   ]
  },
  {
   "cell_type": "code",
   "execution_count": null,
   "id": "cd3b1477-b18c-42ee-a6c6-eb6dc29d6018",
   "metadata": {},
   "outputs": [],
   "source": []
  },
  {
   "cell_type": "markdown",
   "id": "e0ac2958-3bea-4ce3-a230-546626898109",
   "metadata": {},
   "source": [
    "8. What is the impact of the regularization parameter (λ) in Logistic Regression?\n",
    "\n",
    "λ (Lambda) Controls Regularization Strength:\n",
    "\n",
    "λ is the regularization parameter that controls the strength of the penalty term.   \n",
    "\n",
    "Higher λ:\n",
    "\n",
    "A higher λ value increases the penalty, leading to stronger regularization. This results in smaller coefficients, simpler models, and a reduced risk of overfitting. However, too high a λ can lead to underfitting.   \n",
    "\n",
    "Lower λ:\n",
    "\n",
    "A lower λ value reduces the penalty, resulting in weaker regularization. This allows the model to fit the training data more closely, but it increases the risk of overfitting.   \n",
    "λ = 0:\n",
    "When λ is 0, there is no regularization, and the model behaves like a standard logistic regression without any penalty.\n",
    "\n"
   ]
  },
  {
   "cell_type": "code",
   "execution_count": null,
   "id": "ef8955c7-fbbf-4351-b5e7-57856569dc23",
   "metadata": {},
   "outputs": [],
   "source": []
  },
  {
   "cell_type": "markdown",
   "id": "71b1f6a0-5c6d-436b-b8a2-4357e25afc02",
   "metadata": {},
   "source": [
    "9. What are the key assumptions of Logistic Regression?\n",
    "\n",
    "Binary or Multiclass Output:\n",
    "\n",
    "Logistic regression is designed for classification problems with a categorical dependent variable.   \n",
    "\n",
    "Linearity in the Logit:\n",
    "\n",
    "The relationship between the independent variables and the log-odds (logit) of the outcome is assumed to be linear.   \n",
    "\n",
    "Independence of Observations:\n",
    "\n",
    "The observations are assumed to be independent of each other.\n",
    "\n",
    "No Strong Multicollinearity:\n",
    "\n",
    "The independent variables should not be highly correlated with each other.\n",
    "\n",
    "Sufficiently Large Sample Size:\n",
    "\n",
    "Logistic regression generally requires a sufficiently large sample size for reliable results.\n",
    "\n"
   ]
  },
  {
   "cell_type": "code",
   "execution_count": null,
   "id": "c9b3b418-2889-45ab-817d-7b22865361ab",
   "metadata": {},
   "outputs": [],
   "source": []
  },
  {
   "cell_type": "markdown",
   "id": "d14ec38b-0dd0-4268-9cdd-a7cbfec914bb",
   "metadata": {},
   "source": [
    "10. What are some alternatives to Logistic Regression for classification tasks?\n",
    "\n",
    "Decision Trees:\n",
    "\n",
    "Tree-based models that partition the data based on feature values.\n",
    "\n",
    "Random Forests:\n",
    "\n",
    "Ensemble of decision trees that improve accuracy and reduce overfitting.\n",
    "\n",
    "Support Vector Machines (SVMs):\n",
    "\n",
    "Models that find the optimal hyperplane to separate classes.\n",
    "\n",
    "K-Nearest Neighbors (KNN):\n",
    "\n",
    "Classifies data points based on the majority class of their nearest neighbors.\n",
    "\n",
    "Naive Bayes:\n",
    "\n",
    "Probabilistic models based on Bayes' theorem.\n",
    "\n",
    "Neural Networks:\n",
    "\n",
    "Complex models that can learn intricate patterns in the data.\n",
    "\n",
    "Gradient Boosting Machines (GBM):\n",
    "\n",
    "Ensemble learning method that builds trees in a sequential manner"
   ]
  },
  {
   "cell_type": "code",
   "execution_count": null,
   "id": "46611af3-b9ce-4f2f-8526-d89d1d2c4d6e",
   "metadata": {},
   "outputs": [],
   "source": []
  },
  {
   "cell_type": "markdown",
   "id": "0015b88e-638e-4f45-8186-82e80921413a",
   "metadata": {},
   "source": [
    "11. What are Classification Evaluation Metrics?\n",
    "\n",
    "Accuracy:\n",
    "\n",
    "The proportion of correctly classified instances.\n",
    "\n",
    "Precision:\n",
    "\n",
    "The proportion of correctly predicted positive instances out of all predicted positives.\n",
    "\n",
    "Recall (Sensitivity):\n",
    "\n",
    "The proportion of correctly predicted positive instances out of all actual positives.   \n",
    "\n",
    "F1-Score:\n",
    "\n",
    "The harmonic mean of precision and recall.\n",
    "\n",
    "AUC-ROC (Area Under the Receiver Operating Characteristic Curve):\n",
    "\n",
    "Measures the model's ability to distinguish between classes.\n",
    "\n",
    "Confusion Matrix:\n",
    "\n",
    "A table that summarizes the model's performance by showing true positives, true negatives, false positives, and false negatives.\n",
    "\n",
    "Log Loss (Cross-Entropy Loss):\n",
    "\n",
    "Measures the performance of a classification model where the prediction input is a probability value between 0 and 1"
   ]
  },
  {
   "cell_type": "code",
   "execution_count": null,
   "id": "1c6d0b7e-7793-4f7d-b250-0cf4d0900b95",
   "metadata": {},
   "outputs": [],
   "source": []
  },
  {
   "cell_type": "markdown",
   "id": "a9a441db-8b45-4ce4-91a3-ecfcae6a7210",
   "metadata": {},
   "source": [
    "12. How does class imbalance affect Logistic Regression?\n",
    "\n",
    "Bias Towards Majority Class:\n",
    "\n",
    "Class imbalance occurs when one class has significantly more instances than the other. Logistic regression tends to be biased towards the majority class, leading to poor performance on the minority class.   \n",
    "\n",
    "Misleading Accuracy:\n",
    "\n",
    "Accuracy can be misleading when there is class imbalance, as the model can achieve high accuracy by simply predicting the majority class for all instances.\n",
    "\n",
    "Poor Recall and Precision:\n",
    "\n",
    "The model may have low recall and precision for the minority class, as it struggles to correctly identify instances of that class.\n",
    "\n",
    "Solutions:\n",
    "\n",
    "Oversampling the minority class.\n",
    "Undersampling the majority class.\n",
    "Using class weights to penalize misclassifications of the minority class.   \n",
    "Using evaluation metrics like F1-score, AUC-ROC"
   ]
  },
  {
   "cell_type": "code",
   "execution_count": null,
   "id": "7ace8390-baa2-4120-9f1f-7e3d4f2cc51e",
   "metadata": {},
   "outputs": [],
   "source": []
  },
  {
   "cell_type": "markdown",
   "id": "be87ffe5-ab25-4495-bfb2-66df0e2d880b",
   "metadata": {},
   "source": [
    "13. What is Hyperparameter Tuning in Logistic Regression?\n",
    "\n",
    "Finding Optimal Parameters:\n",
    "\n",
    "Hyperparameter tuning involves finding the optimal values for the parameters that control the learning process of the logistic regression model, such as the regularization parameter (λ) and the solver.   \n",
    "\n",
    "Improving Model Performance:\n",
    "\n",
    "By tuning hyperparameters, you can improve the model's performance, reduce overfitting, and enhance its generalization ability.   \n",
    "\n",
    "Techniques:\n",
    "\n",
    "Grid search: Exhaustively searches through a predefined set of hyperparameter values.   \n",
    "\n",
    "Random search: Randomly samples hyperparameter values.\n",
    "\n",
    "Cross-validation: Evaluates the model's performance on multiple subsets of the data."
   ]
  },
  {
   "cell_type": "code",
   "execution_count": null,
   "id": "556c12ee-81e7-443c-af4d-67a2d20b232b",
   "metadata": {},
   "outputs": [],
   "source": []
  },
  {
   "cell_type": "markdown",
   "id": "8d120727-42e0-4ff5-93df-70e415ced12c",
   "metadata": {},
   "source": [
    "14. What are different solvers in Logistic Regression? Which one should be used?\n",
    "\n",
    "Solvers:\n",
    "\n",
    "\"liblinear\": Suitable for small datasets.   \n",
    "\n",
    "\"lbfgs\": Suitable for small to medium-sized datasets.   \n",
    "\n",
    "\"newton-cg\": Suitable for small to medium-sized datasets.   \n",
    "\n",
    "\"sag\": Suitable for large datasets.   \n",
    "\n",
    "\"saga\": Suitable for large datasets, especially when using L1 regularization.   \n",
    "\n",
    "    Which One to Use:\n",
    "\n",
    "For small datasets, \"liblinear\" is often a good choice.\n",
    "\n",
    "For medium-sized datasets, \"lbfgs\" or \"newton-cg\" are usually reliable.\n",
    "\n",
    "For large datasets, \"sag\" or \"saga\" are preferred. \"saga\" is very good when using L1 regularization."
   ]
  },
  {
   "cell_type": "code",
   "execution_count": null,
   "id": "d19f540a-a4b4-4798-a004-a658a562eb40",
   "metadata": {},
   "outputs": [],
   "source": []
  },
  {
   "cell_type": "markdown",
   "id": "30d6f8a4-c2c9-4dda-8ff1-cb0853e421a5",
   "metadata": {},
   "source": [
    "15. How is Logistic Regression extended for multiclass classification?\n",
    "\n",
    "One-vs-Rest (OvR) or One-vs-All (OvA):\n",
    "\n",
    "Trains multiple binary logistic regression classifiers, one for each class versus all other classes.\n",
    "\n",
    "Softmax Regression (Multinomial Logistic Regression):\n",
    "\n",
    "Generalizes logistic regression to handle multiple classes directly by using the softmax function"
   ]
  },
  {
   "cell_type": "code",
   "execution_count": null,
   "id": "cb078485-41d1-4142-be79-fb0377a8fe5d",
   "metadata": {},
   "outputs": [],
   "source": []
  },
  {
   "cell_type": "markdown",
   "id": "2a31aa18-4ab4-4311-bc86-03f65c89ee20",
   "metadata": {},
   "source": [
    "16. What are the advantages and disadvantages of Logistic Regression?\n",
    "\n",
    "Advantages:\n",
    "\n",
    "Easy to implement and interpret.\n",
    "\n",
    "Efficient to train.\n",
    "\n",
    "Provides probability estimates.\n",
    "\n",
    "Works well for linearly separable data.\n",
    "\n",
    "Disadvantages:\n",
    "\n",
    "Assumes a linear relationship between features and the log-odds.\n",
    "\n",
    "Can struggle with complex non-linear relationships.\n",
    "\n",
    "Sensitive to outliers.\n",
    "\n",
    "Can overfit with high-dimensional data."
   ]
  },
  {
   "cell_type": "code",
   "execution_count": null,
   "id": "0bd120ff-e091-44f2-9cd8-4fd5f31edc03",
   "metadata": {},
   "outputs": [],
   "source": []
  },
  {
   "cell_type": "markdown",
   "id": "c5874a30-5777-4a2a-aabf-3d92c07a7ab9",
   "metadata": {},
   "source": [
    "17. What are some use cases of Logistic Regression?\n",
    "\n",
    "Spam Detection:\n",
    "\n",
    "Classifying emails as spam or not spam.\n",
    "\n",
    "Medical Diagnosis:\n",
    "\n",
    "Predicting the presence or absence of a disease.\n",
    "\n",
    "Credit Risk Assessment:\n",
    "\n",
    "Predicting the likelihood of a customer defaulting on a loan.\n",
    "\n",
    "Customer Churn Prediction:\n",
    "\n",
    "Predicting whether a customer will stop using a service.\n",
    "\n",
    "Online Advertising:\n",
    "\n",
    "Predicting whether a user will click on an ad."
   ]
  },
  {
   "cell_type": "code",
   "execution_count": null,
   "id": "6c62e6ec-e142-47c5-ba79-e5cbc819af0a",
   "metadata": {},
   "outputs": [],
   "source": []
  },
  {
   "cell_type": "markdown",
   "id": "2a7f9af9-4a52-4883-9f01-01e37f381f46",
   "metadata": {},
   "source": [
    "18). What is the difference between Softmax Regression and Logistic Regression.\n",
    "\n",
    "    Logistic Regression:\n",
    "\n",
    "Purpose:\n",
    "\n",
    "Designed for binary classification problems. It deals with situations where the outcome can be one of two possible classes (e.g., yes/no, true/false, 0/1).   \n",
    "\n",
    "Output:\n",
    "\n",
    "Produces a probability between 0 and 1, representing the likelihood of an instance belonging to one of the two classes.   \n",
    "\n",
    "Function:\n",
    "\n",
    "Uses the sigmoid function to transform the linear combination of features into a probability.   \n",
    "\n",
    "Use Case:\n",
    "\n",
    "Predicting whether an email is spam or not, whether a customer will click on an ad, or whether a patient has a certain disease.   \n",
    "\n",
    "    Softmax Regression (Multinomial Logistic Regression):\n",
    "\n",
    "Purpose:\n",
    "\n",
    "Designed for multiclass classification problems. It handles situations where the outcome can be one of three or more possible classes (e.g., classifying different types of animals, identifying different digits in an image).   \n",
    "\n",
    "Output:\n",
    "\n",
    "Produces a probability distribution over all the classes, where each probability represents the likelihood of an instance belonging to a specific class.   \n",
    "\n",
    "Function:\n",
    "\n",
    "Uses the softmax function to transform the linear combination of features into a probability distribution.   \n",
    "\n",
    "Relationship to Logistic Regression:\n",
    "\n",
    "Softmax regression can be seen as a generalization of logistic regression to handle multiclass problems. When there are only two classes, softmax regression becomes equivalent to logistic regression.   \n",
    "\n",
    "Use Case:\n",
    "\n",
    "Image classification, natural language processing (e.g., classifying documents into different topics), and predicting the next word in a sentence.\n",
    "\n",
    " "
   ]
  },
  {
   "cell_type": "code",
   "execution_count": null,
   "id": "34534dc5-d35f-4d2d-92f4-65410c317194",
   "metadata": {},
   "outputs": [],
   "source": []
  },
  {
   "cell_type": "markdown",
   "id": "72ba4578-3187-467e-96f6-645c29b5cec7",
   "metadata": {},
   "source": [
    "19. How do we choose between One-vs-Rest (OvR) and Softmax for multiclass classification?\n",
    "\n",
    "The choice between One-vs-Rest (OvR) and Softmax Regression for multiclass classification depends on several factors:\n",
    "\n",
    "Computational Efficiency:\n",
    "\n",
    "OvR: Can be computationally less expensive when you have a large number of classes, as it trains multiple independent binary classifiers.\n",
    "\n",
    "Softmax: Can become computationally expensive with a very large number of classes, as it calculates probabilities for all classes simultaneously.   \n",
    "\n",
    "Interpretability:\n",
    "\n",
    "OvR: Provides individual binary classifiers, which can be easier to interpret in some cases.   \n",
    "\n",
    "Softmax: Provides a single model with probabilities for all classes, which can be more concise.\n",
    "\n",
    "Class Exclusivity:\n",
    "\n",
    "Softmax: Assumes that the classes are mutually exclusive (an instance belongs to only one class). This is ideal for cases like classifying images into \n",
    "\n",
    "different animal species.   \n",
    "\n",
    "OvR: Does not inherently assume class exclusivity. This can be beneficial in situations where an instance might belong to multiple classes (though this is less common in typical classification problems).\n",
    "\n",
    "Implementation:\n",
    "\n",
    "Many libraries offer both OvR and Softmax implementations. OvR is sometimes the default for multiclass logistic regression.\n",
    "\n",
    "Performance:\n",
    "\n",
    "In many cases, Softmax and OvR will produce similar results. However, Softmax is generally preferred when the classes are mutually exclusive and you want a single, unified model.   "
   ]
  },
  {
   "cell_type": "code",
   "execution_count": null,
   "id": "4a4e10f3-124c-4799-a3bb-1682c08d7577",
   "metadata": {},
   "outputs": [],
   "source": []
  },
  {
   "cell_type": "markdown",
   "id": "10a47285-1a3a-407c-a164-9c4994f7ce0a",
   "metadata": {},
   "source": [
    "20. How do we interpret coefficients in Logistic Regression?\n",
    "\n",
    "Interpreting coefficients in logistic regression is slightly different from linear regression due to the sigmoid function and the focus on probabilities. Here's how to approach it:   \n",
    "\n",
    "Log-Odds:\n",
    "\n",
    "The coefficients represent the change in the log-odds of the outcome variable for a one-unit change in the predictor variable, holding all other predictors constant.   \n",
    "The log-odds are the logarithm of the odds, where odds are the probability of the event occurring divided by the probability of it not occurring.   \n",
    "\n",
    "Direction of the Effect:\n",
    "\n",
    "A positive coefficient indicates that an increase in the predictor variable is associated with an increase in the log-odds of the outcome (and therefore an increase in the probability of the outcome).   \n",
    "A negative coefficient indicates that an increase in the predictor variable is associated with a decrease in the log-odds of the outcome (and therefore a decrease in the probability of the outcome).   \n",
    "\n",
    "Magnitude of the Effect:\n",
    "\n",
    "To interpret the magnitude of the effect, you can exponentiate the coefficients (e^coefficient). This gives you the odds ratio.\n",
    "An odds ratio greater than 1 indicates that the odds of the outcome increase by that factor for a one-unit increase in the predictor.   \n",
    "An odds ratio less than 1 indicates that the odds of the outcome decrease by that factor for a one-unit increase in the predictor.   "
   ]
  },
  {
   "cell_type": "code",
   "execution_count": null,
   "id": "e8795be4-3cdc-4fb2-9ebd-8d73fb38d234",
   "metadata": {},
   "outputs": [],
   "source": []
  },
  {
   "cell_type": "markdown",
   "id": "51764dcd-d8c8-4908-a1a0-bad41a1f27d0",
   "metadata": {},
   "source": [
    "        Practical"
   ]
  },
  {
   "cell_type": "code",
   "execution_count": null,
   "id": "d97ca43b-d7b5-4a36-bde5-76955d8a4104",
   "metadata": {},
   "outputs": [],
   "source": [
    "1). Write a Python program that loads a dataset, splits it into training and testing sets, applies Logistic \n",
    "Regression, and prints the model accuracy"
   ]
  },
  {
   "cell_type": "code",
   "execution_count": 30,
   "id": "db1ce1cd-9dc1-4cd0-bbaf-607236a21098",
   "metadata": {},
   "outputs": [],
   "source": [
    "import numpy as np\n",
    "import pandas as pd\n",
    "from sklearn.model_selection import train_test_split\n",
    "from sklearn.linear_model import LogisticRegression\n",
    "from sklearn.metrics import accuracy_score\n",
    "import warnings\n",
    "warnings.filterwarnings(\"ignore\")\n",
    "from sklearn.datasets import load_iris\n",
    "\n",
    "iris = load_iris()\n",
    "X = iris.data\n",
    "y = iris.target"
   ]
  },
  {
   "cell_type": "code",
   "execution_count": 32,
   "id": "c507cf4a-99bd-4032-b96f-13844cb8bfec",
   "metadata": {},
   "outputs": [],
   "source": [
    "X_train, X_test, y_train, y_test = train_test_split(X, y, test_size=0.2, random_state=42)"
   ]
  },
  {
   "cell_type": "code",
   "execution_count": 34,
   "id": "9ad02565-d906-4666-850c-a91fa57b1fce",
   "metadata": {},
   "outputs": [
    {
     "name": "stdout",
     "output_type": "stream",
     "text": [
      "Model Accuracy: 1.0\n"
     ]
    }
   ],
   "source": [
    "model = LogisticRegression(solver='lbfgs', max_iter=1000)\n",
    "\n",
    "model.fit(X_train, y_train)\n",
    "\n",
    "y_pred = model.predict(X_test)\n",
    "\n",
    "accuracy = accuracy_score(y_test, y_pred)\n",
    "print(\"Model Accuracy:\", accuracy)"
   ]
  },
  {
   "cell_type": "code",
   "execution_count": 36,
   "id": "a8f253ca-9edc-46aa-a688-ae6341dc2f95",
   "metadata": {},
   "outputs": [],
   "source": [
    "from sklearn.datasets import load_breast_cancer\n",
    "\n",
    "breast_cancer = load_breast_cancer()\n",
    "X_bc = breast_cancer.data\n",
    "y_bc = breast_cancer.target"
   ]
  },
  {
   "cell_type": "code",
   "execution_count": 38,
   "id": "34bfcf23-ffd7-4ef8-8dc3-d62be1bcb763",
   "metadata": {},
   "outputs": [],
   "source": [
    "X_train_bc, X_test_bc, y_train_bc, y_test_bc = train_test_split(X_bc, y_bc, test_size=0.2, random_state=42)"
   ]
  },
  {
   "cell_type": "code",
   "execution_count": 40,
   "id": "d8c06c46-b02d-44e2-af6a-be331389d38e",
   "metadata": {},
   "outputs": [
    {
     "name": "stdout",
     "output_type": "stream",
     "text": [
      "Breast Cancer Dataset Accuracy: 0.956140350877193\n"
     ]
    }
   ],
   "source": [
    "model_bc = LogisticRegression(solver='lbfgs', max_iter=10000) \n",
    "model_bc.fit(X_train_bc, y_train_bc)\n",
    "\n",
    "y_pred_bc = model_bc.predict(X_test_bc)\n",
    "\n",
    "accuracy_bc = accuracy_score(y_test_bc, y_pred_bc)\n",
    "print(\"Breast Cancer Dataset Accuracy:\", accuracy_bc)"
   ]
  },
  {
   "cell_type": "code",
   "execution_count": null,
   "id": "3680c06b-f8d9-40d4-ad9d-e78bcb271cc2",
   "metadata": {},
   "outputs": [],
   "source": []
  },
  {
   "cell_type": "markdown",
   "id": "182f1505-1140-4409-b5b3-4041fd49f0f4",
   "metadata": {},
   "source": [
    "2). Write a Python program to apply L1 regularization (Lasso) on a dataset using LogisticRegression(penalty='l1') \n",
    "and print the model accuracy"
   ]
  },
  {
   "cell_type": "code",
   "execution_count": 43,
   "id": "8f9660a9-c207-4bd8-8611-2475974d0d33",
   "metadata": {},
   "outputs": [],
   "source": [
    "from sklearn.datasets import load_breast_cancer\n",
    "\n",
    "breast_cancer = load_breast_cancer()\n",
    "X = breast_cancer.data\n",
    "y = breast_cancer.target"
   ]
  },
  {
   "cell_type": "code",
   "execution_count": 45,
   "id": "f156ede3-a656-4859-b213-4e7b07ca49ee",
   "metadata": {},
   "outputs": [],
   "source": [
    "X_train, X_test, y_train, y_test = train_test_split(X, y, test_size=0.2, random_state=42)"
   ]
  },
  {
   "cell_type": "code",
   "execution_count": 48,
   "id": "80b7fb7b-b949-4044-8b42-ed6e5288110f",
   "metadata": {},
   "outputs": [
    {
     "name": "stdout",
     "output_type": "stream",
     "text": [
      "L1 Regularization (Lasso) Accuracy: 0.956140350877193\n"
     ]
    }
   ],
   "source": [
    "model = LogisticRegression(penalty='l1', solver='liblinear', random_state=42)\n",
    "model.fit(X_train, y_train)\n",
    "\n",
    "y_pred = model.predict(X_test)\n",
    "accuracy = accuracy_score(y_test, y_pred)\n",
    "\n",
    "print(\"L1 Regularization (Lasso) Accuracy:\", accuracy)"
   ]
  },
  {
   "cell_type": "code",
   "execution_count": null,
   "id": "f85dddff-164a-45d4-b1bd-f6305fc5f048",
   "metadata": {},
   "outputs": [],
   "source": []
  },
  {
   "cell_type": "markdown",
   "id": "08d5d724-a3fa-47c4-8b7d-53ea7a3fe025",
   "metadata": {},
   "source": [
    "3). Write a Python program to train Logistic Regression with L2 regularization (Ridge) using \n",
    "LogisticRegression(penalty='l2'). Print model accuracy and coefficients"
   ]
  },
  {
   "cell_type": "code",
   "execution_count": 52,
   "id": "708efcb9-b11d-49e2-910a-c8eb4a2f0b71",
   "metadata": {},
   "outputs": [],
   "source": [
    "from sklearn.datasets import load_breast_cancer\n",
    "\n",
    "breast_cancer = load_breast_cancer()\n",
    "X = breast_cancer.data\n",
    "y = breast_cancer.target"
   ]
  },
  {
   "cell_type": "code",
   "execution_count": 54,
   "id": "defef3a9-170f-4b4a-8a92-08006bbed60f",
   "metadata": {},
   "outputs": [],
   "source": [
    "X_train, X_test, y_train, y_test = train_test_split(X, y, test_size=0.2, random_state=42)"
   ]
  },
  {
   "cell_type": "code",
   "execution_count": 56,
   "id": "69167476-a4de-48e8-a19d-265226d627d8",
   "metadata": {},
   "outputs": [
    {
     "name": "stdout",
     "output_type": "stream",
     "text": [
      "L2 Regularization (Ridge) Accuracy: 0.956140350877193\n",
      "Coefficients: [[ 0.98354004  0.22615743 -0.36832332  0.02630641 -0.153082   -0.23171913\n",
      "  -0.52017841 -0.27408629 -0.22286967 -0.03677268 -0.09394405  1.38710248\n",
      "  -0.16291261 -0.0891512  -0.02189262  0.04398039 -0.04602427 -0.03149534\n",
      "  -0.03407006  0.01105651  0.10038686 -0.51471036 -0.01706763 -0.01659449\n",
      "  -0.30221217 -0.76450279 -1.4116666  -0.49630847 -0.73140557 -0.10105383]]\n"
     ]
    }
   ],
   "source": [
    "model = LogisticRegression(penalty='l2', solver='lbfgs', max_iter=10000, random_state=42)\n",
    "model.fit(X_train, y_train)\n",
    "\n",
    "y_pred = model.predict(X_test)\n",
    "accuracy = accuracy_score(y_test, y_pred)\n",
    "\n",
    "print(\"L2 Regularization (Ridge) Accuracy:\", accuracy)\n",
    "print(\"Coefficients:\", model.coef_)"
   ]
  },
  {
   "cell_type": "code",
   "execution_count": null,
   "id": "75788932-26f3-4606-86de-d821f4ec54cb",
   "metadata": {},
   "outputs": [],
   "source": []
  },
  {
   "cell_type": "markdown",
   "id": "fb73c6b2-13c1-4984-8ff5-b0ece40a1aec",
   "metadata": {},
   "source": [
    "4). Write a Python program to train Logistic Regression with Elastic Net Regularization (penalty='elasticnet')"
   ]
  },
  {
   "cell_type": "code",
   "execution_count": 59,
   "id": "ce182e27-9d7f-416a-9067-35ba52e3e4fa",
   "metadata": {},
   "outputs": [],
   "source": [
    "from sklearn.datasets import load_breast_cancer\n",
    "\n",
    "breast_cancer = load_breast_cancer()\n",
    "X = breast_cancer.data\n",
    "y = breast_cancer.target"
   ]
  },
  {
   "cell_type": "code",
   "execution_count": 62,
   "id": "f038f814-d337-4c02-9193-59c66a5b59bd",
   "metadata": {},
   "outputs": [],
   "source": [
    "X_train, X_test, y_train, y_test = train_test_split(X, y, test_size=0.2, random_state=42)"
   ]
  },
  {
   "cell_type": "code",
   "execution_count": 64,
   "id": "a77eda9e-36ad-497b-9300-0dbd6972423d",
   "metadata": {},
   "outputs": [
    {
     "name": "stdout",
     "output_type": "stream",
     "text": [
      "Elastic Net Regularization Accuracy: 0.9736842105263158\n"
     ]
    }
   ],
   "source": [
    "model = LogisticRegression(penalty='elasticnet', solver='saga', l1_ratio=0.5, max_iter=10000, random_state=42)\n",
    "model.fit(X_train, y_train)\n",
    "\n",
    "y_pred = model.predict(X_test)\n",
    "accuracy = accuracy_score(y_test, y_pred)\n",
    "\n",
    "print(\"Elastic Net Regularization Accuracy:\", accuracy)"
   ]
  },
  {
   "cell_type": "code",
   "execution_count": null,
   "id": "3fa88767-e714-4d4a-8d0e-641eb67a0fbd",
   "metadata": {},
   "outputs": [],
   "source": []
  },
  {
   "cell_type": "markdown",
   "id": "9e5e1e39-eecb-44eb-8e7d-ff79c0afcca3",
   "metadata": {},
   "source": [
    "5). Write a Python program to train a Logistic Regression model for multiclass classification using \n",
    "multi_class='ovr'"
   ]
  },
  {
   "cell_type": "code",
   "execution_count": 67,
   "id": "6367311a-9c07-4ebd-b819-85a40a43bcde",
   "metadata": {},
   "outputs": [],
   "source": [
    "from sklearn.datasets import load_iris\n",
    "\n",
    "iris = load_iris()\n",
    "X = iris.data\n",
    "y = iris.target"
   ]
  },
  {
   "cell_type": "code",
   "execution_count": 68,
   "id": "04382191-00d0-4217-bc18-edc8697e30c9",
   "metadata": {},
   "outputs": [],
   "source": [
    "X_train, X_test, y_train, y_test = train_test_split(X, y, test_size=0.2, random_state=42)"
   ]
  },
  {
   "cell_type": "code",
   "execution_count": 69,
   "id": "c0ebed01-f9c0-4233-a42a-248eb5d5e516",
   "metadata": {},
   "outputs": [
    {
     "name": "stdout",
     "output_type": "stream",
     "text": [
      "Multiclass (OvR) Accuracy: 1.0\n"
     ]
    }
   ],
   "source": [
    "model = LogisticRegression(multi_class='ovr', solver='liblinear', random_state=42)\n",
    "model.fit(X_train, y_train)\n",
    "\n",
    "y_pred = model.predict(X_test)\n",
    "accuracy = accuracy_score(y_test, y_pred)\n",
    "\n",
    "print(\"Multiclass (OvR) Accuracy:\", accuracy)"
   ]
  },
  {
   "cell_type": "code",
   "execution_count": null,
   "id": "4e05112c-92a2-49ec-87d7-9a51dd976287",
   "metadata": {},
   "outputs": [],
   "source": []
  },
  {
   "cell_type": "markdown",
   "id": "32351c96-40cc-42a2-858c-cb82afc3c8e6",
   "metadata": {},
   "source": [
    "6). Write a Python program to apply GridSearchCV to tune the hyperparameters (C and penalty) of Logistic \n",
    "Regression. Print the best parameters and accuracy"
   ]
  },
  {
   "cell_type": "code",
   "execution_count": 173,
   "id": "77db01c3-92fb-4546-91fb-0d2266392b41",
   "metadata": {},
   "outputs": [
    {
     "name": "stdout",
     "output_type": "stream",
     "text": [
      "Best Parameters: {'C': 0.001, 'penalty': 'l2'}\n",
      "Best Model Accuracy: 0.9736842105263158\n"
     ]
    }
   ],
   "source": [
    "from sklearn.model_selection import train_test_split, GridSearchCV\n",
    "from sklearn.datasets import load_breast_cancer\n",
    "\n",
    "breast_cancer = load_breast_cancer()\n",
    "X = breast_cancer.data\n",
    "y = breast_cancer.target\n",
    "\n",
    "X_train, X_test, y_train, y_test = train_test_split(X, y, test_size=0.2, random_state=42)\n",
    "\n",
    "param_grid = {'C': [0.001, 0.01, 0.1, 1, 10, 100], 'penalty': ['l1', 'l2', 'elasticnet']}\n",
    "model = LogisticRegression(solver='saga', max_iter=10000, random_state=42)\n",
    "grid_search = GridSearchCV(model, param_grid, cv=5)\n",
    "grid_search.fit(X_train, y_train)\n",
    "\n",
    "best_params = grid_search.best_params_\n",
    "best_model = grid_search.best_estimator_\n",
    "y_pred = best_model.predict(X_test)\n",
    "accuracy = accuracy_score(y_test, y_pred)\n",
    "\n",
    "print(\"Best Parameters:\", best_params)\n",
    "print(\"Best Model Accuracy:\", accuracy)"
   ]
  },
  {
   "cell_type": "code",
   "execution_count": null,
   "id": "f8eeaf12-273d-4193-ad85-3157b9a9a0bc",
   "metadata": {},
   "outputs": [],
   "source": []
  },
  {
   "cell_type": "markdown",
   "id": "fcb0dbfe-5b64-4b1d-80bf-4cbd8e47f62e",
   "metadata": {},
   "source": [
    "7). Write a Python program to evaluate Logistic Regression using Stratified K-Fold Cross-Validation. Print the \n",
    "average accuracy"
   ]
  },
  {
   "cell_type": "code",
   "execution_count": 175,
   "id": "5983ac44-280f-4a90-8b56-547dbccaeae2",
   "metadata": {},
   "outputs": [
    {
     "name": "stdout",
     "output_type": "stream",
     "text": [
      "Average Stratified K-Fold Accuracy: 0.9543393882937432\n"
     ]
    }
   ],
   "source": [
    "from sklearn.model_selection import StratifiedKFold, cross_val_score\n",
    "from sklearn.linear_model import LogisticRegression\n",
    "from sklearn.datasets import load_breast_cancer\n",
    "\n",
    "breast_cancer = load_breast_cancer()\n",
    "X = breast_cancer.data\n",
    "y = breast_cancer.target\n",
    "\n",
    "model = LogisticRegression(solver='lbfgs', max_iter=10000, random_state=42)\n",
    "skf = StratifiedKFold(n_splits=5, shuffle=True, random_state=42)\n",
    "scores = cross_val_score(model, X, y, cv=skf)\n",
    "\n",
    "print(\"Average Stratified K-Fold Accuracy:\", np.mean(scores))"
   ]
  },
  {
   "cell_type": "code",
   "execution_count": null,
   "id": "c87a8de6-305e-4262-941e-066907ad6f8d",
   "metadata": {},
   "outputs": [],
   "source": []
  },
  {
   "cell_type": "markdown",
   "id": "3d8abeb1-7524-4a52-997a-b09be6b660d7",
   "metadata": {},
   "source": [
    "8). Write a Python program to load a dataset from a CSV file, apply Logistic Regression, and evaluate its \n",
    "accuracy"
   ]
  },
  {
   "cell_type": "code",
   "execution_count": null,
   "id": "cb74a84f-518e-4430-ab34-5fc0b54478f1",
   "metadata": {},
   "outputs": [],
   "source": [
    "import pandas as pd\n",
    "from sklearn.model_selection import train_test_split\n",
    "from sklearn.linear_model import LogisticRegression\n",
    "from sklearn.metrics import accuracy_score\n",
    "import warnings\n",
    "\n",
    "warnings.filterwarnings(\"ignore\")\n",
    "\n",
    "file_path = r\"C:\\Users\\guruk\\Train.csv\"  # Raw string path\n",
    "\n",
    "try:\n",
    "    data = pd.read_csv(file_path)\n",
    "    # Rest of your code (feature selection, train-test split, model training, etc.)\n",
    "    X = data.drop('target_column', axis=1) #replace 'target_column'\n",
    "    y = data['target_column'] #replace 'target_column'\n",
    "\n",
    "    X_train, X_test, y_train, y_test = train_test_split(X, y, test_size=0.2, random_state=42)\n",
    "\n",
    "    model = LogisticRegression(solver='lbfgs', max_iter=10000)\n",
    "    model.fit(X_train, y_train)\n",
    "\n",
    "    y_pred = model.predict(X_test)\n",
    "    accuracy = accuracy_score(y_test, y_pred)\n",
    "\n",
    "    print(\"CSV Dataset Accuracy:\", accuracy)\n",
    "\n",
    "except FileNotFoundError:\n",
    "    print(f\"Error: File not found at {file_path}\")\n",
    "except Exception as e:\n",
    "    print(f\"An error occurred: {e}\")"
   ]
  },
  {
   "cell_type": "code",
   "execution_count": null,
   "id": "fa1ba65b-bd4d-4d8f-96a4-96c995eadad2",
   "metadata": {},
   "outputs": [],
   "source": []
  },
  {
   "cell_type": "markdown",
   "id": "103c3abb-7d0c-4e9a-9525-bf468a99f97c",
   "metadata": {},
   "source": [
    "9). Write a Python program to apply RandomizedSearchCV for tuning hyperparameters (C, penalty, solver) in \n",
    "Logistic Regression. Print the best parameters and accuracy"
   ]
  },
  {
   "cell_type": "code",
   "execution_count": 88,
   "id": "c86e7744-507e-4510-be40-f9141c00fe56",
   "metadata": {},
   "outputs": [],
   "source": [
    "from sklearn.model_selection import RandomizedSearchCV, train_test_split, cross_val_score\n",
    "from sklearn.linear_model import LogisticRegression\n",
    "from sklearn.metrics import accuracy_score, confusion_matrix, precision_score, recall_score, f1_score, roc_auc_score, cohen_kappa_score, matthews_corrcoef, precision_recall_curve\n",
    "from sklearn.preprocessing import StandardScaler\n",
    "import matplotlib.pyplot as plt\n",
    "import seaborn as sns\n",
    "import joblib"
   ]
  },
  {
   "cell_type": "code",
   "execution_count": 90,
   "id": "5025a4e0-30ad-4e46-b064-c2872d2cb410",
   "metadata": {},
   "outputs": [],
   "source": [
    "def generate_sample_data():\n",
    "    np.random.seed(42)\n",
    "    X = np.random.rand(1000, 10)\n",
    "    y = (X[:, 0] + X[:, 1] > 1).astype(int)\n",
    "    return X, y\n",
    "\n",
    "def randomized_search_logistic_regression():\n",
    "    X, y = generate_sample_data()\n",
    "    X_train, X_test, y_train, y_test = train_test_split(X, y, test_size=0.2, random_state=42)"
   ]
  },
  {
   "cell_type": "code",
   "execution_count": 92,
   "id": "db8117ec-5246-415d-9dee-194375a17f24",
   "metadata": {},
   "outputs": [
    {
     "name": "stdout",
     "output_type": "stream",
     "text": [
      "Best Parameters: {'solver': 'lbfgs', 'penalty': 'l2', 'l1_ratio': 0.8, 'C': 100.0}\n",
      "Best Accuracy: 0.9670329670329672\n",
      "Test Accuracy: 0.956140350877193\n"
     ]
    }
   ],
   "source": [
    "    param_dist = {\n",
    "        'C': np.logspace(-3, 3, 7),\n",
    "        'penalty': ['l1', 'l2', 'elasticnet', None],\n",
    "        'solver': ['newton-cg', 'lbfgs', 'liblinear', 'saga'],\n",
    "        'l1_ratio': [0.2, 0.5, 0.8]\n",
    "    }\n",
    "\n",
    "    logreg = LogisticRegression(max_iter=10000)\n",
    "    random_search = RandomizedSearchCV(logreg, param_distributions=param_dist, n_iter=100, cv=5, random_state=42, n_jobs=-1)\n",
    "    random_search.fit(X_train, y_train)\n",
    "\n",
    "    print(\"Best Parameters:\", random_search.best_params_)\n",
    "    print(\"Best Accuracy:\", random_search.best_score_)\n",
    "    print(\"Test Accuracy:\", accuracy_score(y_test, random_search.predict(X_test)))"
   ]
  },
  {
   "cell_type": "code",
   "execution_count": null,
   "id": "b0292080-f9f2-44ea-817a-8e48d4043298",
   "metadata": {},
   "outputs": [],
   "source": []
  },
  {
   "cell_type": "markdown",
   "id": "e64ada07-0936-4466-9d23-91ddba84ac14",
   "metadata": {},
   "source": [
    "10). Write a Python program to implement One-vs-One (OvO) Multiclass Logistic Regression and print accuracy"
   ]
  },
  {
   "cell_type": "code",
   "execution_count": 101,
   "id": "8b747ca1-79ee-438d-b342-a6afdc058edb",
   "metadata": {},
   "outputs": [
    {
     "name": "stdout",
     "output_type": "stream",
     "text": [
      "One-vs-One Logistic Regression Accuracy: 0.325\n"
     ]
    }
   ],
   "source": [
    "import numpy as np\n",
    "from sklearn.model_selection import train_test_split\n",
    "from sklearn.linear_model import LogisticRegression\n",
    "from sklearn.multiclass import OneVsOneClassifier\n",
    "from sklearn.metrics import accuracy_score\n",
    "\n",
    "def one_vs_one_logistic_regression():\n",
    "    \"\"\"\n",
    "    Implements One-vs-One (OvO) Multiclass Logistic Regression and prints accuracy.\n",
    "    \"\"\"\n",
    "\n",
    "    np.random.seed(42)\n",
    "    X = np.random.rand(1000, 10)\n",
    "    y = np.random.randint(0, 3, 1000)  # 3 classes\n",
    "\n",
    "    X_train, X_test, y_train, y_test = train_test_split(X, y, test_size=0.2, random_state=42)\n",
    "\n",
    "    logreg = LogisticRegression(solver='liblinear', random_state=42)\n",
    "\n",
    "    ovo_logreg = OneVsOneClassifier(logreg)\n",
    "\n",
    "    ovo_logreg.fit(X_train, y_train)\n",
    "\n",
    "    y_pred = ovo_logreg.predict(X_test)\n",
    "\n",
    "    accuracy = accuracy_score(y_test, y_pred)\n",
    "    print(\"One-vs-One Logistic Regression Accuracy:\", accuracy)\n",
    "\n",
    "if __name__ == \"__main__\":\n",
    "    one_vs_one_logistic_regression()"
   ]
  },
  {
   "cell_type": "code",
   "execution_count": null,
   "id": "49429e49-85dc-4186-bcde-0ce8e5c71323",
   "metadata": {},
   "outputs": [],
   "source": []
  },
  {
   "cell_type": "markdown",
   "id": "28611019-3275-444e-8563-a82d8e3b9b05",
   "metadata": {},
   "source": [
    "11). Write a Python program to train a Logistic Regression model and visualize the confusion matrix for binary \n",
    "classification"
   ]
  },
  {
   "cell_type": "code",
   "execution_count": 106,
   "id": "1625b70b-5e66-4171-8974-ad77b1aedc58",
   "metadata": {},
   "outputs": [
    {
     "data": {
      "image/png": "[encoded data removed]",
      "text/plain": [
       "<Figure size 800x600 with 2 Axes>"
      ]
     },
     "metadata": {},
     "output_type": "display_data"
    }
   ],
   "source": [
    "import matplotlib.pyplot as plt\n",
    "import seaborn as sns\n",
    "from sklearn.metrics import confusion_matrix\n",
    "\n",
    "def visualize_binary_confusion_matrix():\n",
    "    \"\"\"\n",
    "    Trains a Logistic Regression model and visualizes the confusion matrix for binary classification.\n",
    "    \"\"\"\n",
    "\n",
    "    np.random.seed(42)\n",
    "    X = np.random.rand(100, 2) \n",
    "    y = (X[:, 0] + X[:, 1] > 1).astype(int) \n",
    "\n",
    "    X_train, X_test, y_train, y_test = train_test_split(X, y, test_size=0.2, random_state=42)\n",
    "\n",
    "    logreg = LogisticRegression()\n",
    "    logreg.fit(X_train, y_train)\n",
    "\n",
    "    y_pred = logreg.predict(X_test)\n",
    "\n",
    "    cm = confusion_matrix(y_test, y_pred)\n",
    "\n",
    "    plt.figure(figsize=(8, 6))\n",
    "    sns.heatmap(cm, annot=True, fmt='d', cmap='Blues')\n",
    "    plt.xlabel('Predicted Labels')\n",
    "    plt.ylabel('True Labels')\n",
    "    plt.title('Confusion Matrix')\n",
    "    plt.show()\n",
    "\n",
    "if __name__ == \"__main__\":\n",
    "    visualize_binary_confusion_matrix()"
   ]
  },
  {
   "cell_type": "code",
   "execution_count": null,
   "id": "64b3dca6-3a8f-4ebc-9bf2-ce747eb8e0ee",
   "metadata": {},
   "outputs": [],
   "source": []
  },
  {
   "cell_type": "markdown",
   "id": "d387b9a4-69d0-4676-a2ce-9aec06dcd9e4",
   "metadata": {},
   "source": [
    "12). Write a Python program to train a Logistic Regression model and evaluate its performance using Precision, \n",
    "Recall, and F1-Score"
   ]
  },
  {
   "cell_type": "code",
   "execution_count": 111,
   "id": "3cbfdf38-a056-40e4-8125-82086cf5f406",
   "metadata": {},
   "outputs": [
    {
     "name": "stdout",
     "output_type": "stream",
     "text": [
      "Precision: 1.0\n",
      "Recall: 0.7\n",
      "F1-Score: 0.8235294117647058\n"
     ]
    }
   ],
   "source": [
    "from sklearn.metrics import precision_score, recall_score, f1_score\n",
    "\n",
    "def evaluate_logistic_regression():\n",
    "    \"\"\"\n",
    "    Trains a Logistic Regression model and evaluates its performance using Precision, Recall, and F1-Score.\n",
    "    \"\"\"\n",
    "\n",
    "    np.random.seed(42)\n",
    "    X = np.random.rand(100, 2)\n",
    "    y = (X[:, 0] + X[:, 1] > 1).astype(int)\n",
    "\n",
    "    X_train, X_test, y_train, y_test = train_test_split(X, y, test_size=0.2, random_state=42)\n",
    "\n",
    "    logreg = LogisticRegression()\n",
    "    logreg.fit(X_train, y_train)\n",
    "\n",
    "    y_pred = logreg.predict(X_test)\n",
    "\n",
    "    precision = precision_score(y_test, y_pred)\n",
    "    recall = recall_score(y_test, y_pred)\n",
    "    f1 = f1_score(y_test, y_pred)\n",
    "\n",
    "    print(\"Precision:\", precision)\n",
    "    print(\"Recall:\", recall)\n",
    "    print(\"F1-Score:\", f1)\n",
    "\n",
    "if __name__ == \"__main__\":\n",
    "    evaluate_logistic_regression()"
   ]
  },
  {
   "cell_type": "code",
   "execution_count": null,
   "id": "f5ccd2c7-3ebe-4484-844c-af349a13f3a7",
   "metadata": {},
   "outputs": [],
   "source": []
  },
  {
   "cell_type": "markdown",
   "id": "9817dada-d91d-468c-baff-930a9218b140",
   "metadata": {},
   "source": [
    "13). Write a Python program to train a Logistic Regression model on imbalanced data and apply class weights to \n",
    "improve model performance"
   ]
  },
  {
   "cell_type": "code",
   "execution_count": 114,
   "id": "c1edec3c-c6e0-4ae1-a7fa-8d3c42df6cc4",
   "metadata": {},
   "outputs": [
    {
     "name": "stdout",
     "output_type": "stream",
     "text": [
      "Logistic Regression without Class Weights:\n",
      "Accuracy: 0.89\n",
      "              precision    recall  f1-score   support\n",
      "\n",
      "         0.0       0.89      1.00      0.94       178\n",
      "         1.0       0.00      0.00      0.00        22\n",
      "\n",
      "    accuracy                           0.89       200\n",
      "   macro avg       0.45      0.50      0.47       200\n",
      "weighted avg       0.79      0.89      0.84       200\n",
      "\n",
      "\n",
      "Logistic Regression with Class Weights:\n",
      "Accuracy: 0.53\n",
      "              precision    recall  f1-score   support\n",
      "\n",
      "         0.0       0.90      0.53      0.67       178\n",
      "         1.0       0.12      0.50      0.19        22\n",
      "\n",
      "    accuracy                           0.53       200\n",
      "   macro avg       0.51      0.52      0.43       200\n",
      "weighted avg       0.81      0.53      0.62       200\n",
      "\n"
     ]
    }
   ],
   "source": [
    "from sklearn.metrics import accuracy_score, classification_report\n",
    "\n",
    "def imbalanced_logistic_regression():\n",
    "    \"\"\"\n",
    "    Trains a Logistic Regression model on imbalanced data and applies class weights.\n",
    "    \"\"\"\n",
    "\n",
    "    np.random.seed(42)\n",
    "    num_samples = 1000\n",
    "    minority_class_size = int(num_samples * 0.1) \n",
    "    majority_class_size = num_samples - minority_class_size\n",
    "\n",
    "    X = np.random.rand(num_samples, 2)\n",
    "    y = np.concatenate([np.zeros(majority_class_size), np.ones(minority_class_size)])\n",
    "\n",
    "    indices = np.arange(num_samples)\n",
    "    np.random.shuffle(indices)\n",
    "    X = X[indices]\n",
    "    y = y[indices]\n",
    "\n",
    "    X_train, X_test, y_train, y_test = train_test_split(X, y, test_size=0.2, random_state=42)\n",
    "\n",
    "    logreg_no_weights = LogisticRegression()\n",
    "    logreg_no_weights.fit(X_train, y_train)\n",
    "    y_pred_no_weights = logreg_no_weights.predict(X_test)\n",
    "    print(\"Logistic Regression without Class Weights:\")\n",
    "    print(\"Accuracy:\", accuracy_score(y_test, y_pred_no_weights))\n",
    "    print(classification_report(y_test, y_pred_no_weights))\n",
    "\n",
    "    logreg_weights = LogisticRegression(class_weight='balanced')\n",
    "    logreg_weights.fit(X_train, y_train)\n",
    "    y_pred_weights = logreg_weights.predict(X_test)\n",
    "    print(\"\\nLogistic Regression with Class Weights:\")\n",
    "    print(\"Accuracy:\", accuracy_score(y_test, y_pred_weights))\n",
    "    print(classification_report(y_test, y_pred_weights))\n",
    "\n",
    "if __name__ == \"__main__\":\n",
    "    imbalanced_logistic_regression()"
   ]
  },
  {
   "cell_type": "code",
   "execution_count": null,
   "id": "2cd5b68a-608a-4760-bc59-2abc6c81858d",
   "metadata": {},
   "outputs": [],
   "source": []
  },
  {
   "cell_type": "markdown",
   "id": "d44ab71d-bb02-4920-9d9e-39c46e7df0e8",
   "metadata": {},
   "source": [
    "14). Write a Python program to train Logistic Regression on the Titanic dataset, handle missing values, and \n",
    "evaluate performance"
   ]
  },
  {
   "cell_type": "code",
   "execution_count": null,
   "id": "b30a08d9-c614-4e50-8aa1-218aaddd0c77",
   "metadata": {},
   "outputs": [],
   "source": [
    "from sklearn.metrics import accuracy_score, classification_report\n",
    "from sklearn.impute import SimpleImputer\n",
    "from sklearn.preprocessing import LabelEncoder\n",
    "\n",
    "def titanic_logistic_regression():\n",
    "    \"\"\"\n",
    "    Trains Logistic Regression on the Titanic dataset, handles missing values, and evaluates performance.\n",
    "    \"\"\"\n",
    "\n",
    "    try:\n",
    "        url = \"https://raw.githubusercontent.com/datasciencedojo/datasets/master/titanic.csv\"\n",
    "        titanic_data = pd.read_csv(url)\n",
    "\n",
    "        # Handle missing values\n",
    "        # Impute missing 'Age' values with the median\n",
    "        imputer_age = SimpleImputer(strategy='median')\n",
    "        titanic_data['Age'] = imputer_age.fit_transform(titanic_data[['Age']])\n",
    "\n",
    "        # Impute missing 'Embarked' values with the most frequent value\n",
    "        imputer_embarked = SimpleImputer(strategy='most_frequent')\n",
    "        titanic_data['Embarked'] = imputer_embarked.fit_transform(titanic_data[['Embarked']])\n",
    "\n",
    "        # Encode categorical features\n",
    "        label_encoder = LabelEncoder()\n",
    "        titanic_data['Sex'] = label_encoder.fit_transform(titanic_data['Sex'])\n",
    "        titanic_data['Embarked'] = label_encoder.fit_transform(titanic_data['Embarked'])\n",
    "\n",
    "        # Select features and target variable\n",
    "        features = ['Pclass', 'Sex', 'Age', 'SibSp', 'Parch', 'Fare', 'Embarked']\n",
    "        target = 'Survived'\n",
    "\n",
    "        X = titanic_data[features]\n",
    "        y = titanic_data[target]\n",
    "\n",
    "        # Split data into training and testing sets\n",
    "        X_train, X_test, y_train, y_test = train_test_split(X, y, test_size=0.2, random_state=42)\n",
    "\n",
    "        # Train Logistic Regression model\n",
    "        logreg = LogisticRegression(max_iter=1000)\n",
    "        logreg.fit(X_train, y_train)\n",
    "\n",
    "        # Make predictions\n",
    "        y_pred = logreg.predict(X_test)\n",
    "\n",
    "        # Evaluate performance\n",
    "        print(\"Accuracy:\", accuracy_score(y_test, y_pred))\n",
    "        print(classification_report(y_test, y_pred))\n",
    "\n",
    "    except Exception as e:\n",
    "        print(f\"An error occurred: {e}\")\n",
    "\n",
    "if __name__ == \"__main__\":\n",
    "    titanic_logistic_regression()"
   ]
  },
  {
   "cell_type": "code",
   "execution_count": null,
   "id": "c1cb1911-0256-438f-981e-029b2528ec64",
   "metadata": {},
   "outputs": [],
   "source": []
  },
  {
   "cell_type": "markdown",
   "id": "4be4ed32-2cab-428a-8142-effb1d77efdf",
   "metadata": {},
   "source": [
    "15). Write a Python program to apply feature scaling (Standardization) before training a Logistic Regression \n",
    "model. Evaluate its accuracy and compare results with and without scaling"
   ]
  },
  {
   "cell_type": "code",
   "execution_count": 131,
   "id": "534b1d8d-84e0-46a2-9218-e0cfd88f171c",
   "metadata": {},
   "outputs": [
    {
     "name": "stdout",
     "output_type": "stream",
     "text": [
      "Accuracy without scaling: 0.95\n",
      "Accuracy with scaling: 0.95\n",
      "\n",
      "Comparison:\n",
      "Accuracy difference: 0.0\n"
     ]
    }
   ],
   "source": [
    "from sklearn.metrics import accuracy_score\n",
    "from sklearn.preprocessing import StandardScaler\n",
    "\n",
    "def logistic_regression_with_scaling():\n",
    "    \"\"\"\n",
    "    Trains Logistic Regression with and without feature scaling (Standardization) and compares accuracy.\n",
    "    \"\"\"\n",
    "\n",
    "    np.random.seed(42)\n",
    "    X = np.random.rand(100, 2) * 10 \n",
    "    y = (X[:, 0] + X[:, 1] > 10).astype(int)\n",
    "\n",
    "    X_train, X_test, y_train, y_test = train_test_split(X, y, test_size=0.2, random_state=42)\n",
    "\n",
    "    logreg_no_scaling = LogisticRegression()\n",
    "    logreg_no_scaling.fit(X_train, y_train)\n",
    "    y_pred_no_scaling = logreg_no_scaling.predict(X_test)\n",
    "    accuracy_no_scaling = accuracy_score(y_test, y_pred_no_scaling)\n",
    "    print(\"Accuracy without scaling:\", accuracy_no_scaling)\n",
    "\n",
    "    scaler = StandardScaler()\n",
    "    X_train_scaled = scaler.fit_transform(X_train)\n",
    "    X_test_scaled = scaler.transform(X_test)\n",
    "\n",
    "    logreg_scaled = LogisticRegression()\n",
    "    logreg_scaled.fit(X_train_scaled, y_train)\n",
    "    y_pred_scaled = logreg_scaled.predict(X_test_scaled)\n",
    "    accuracy_scaled = accuracy_score(y_test, y_pred_scaled)\n",
    "    print(\"Accuracy with scaling:\", accuracy_scaled)\n",
    "\n",
    "    # Compare results\n",
    "    print(\"\\nComparison:\")\n",
    "    print(f\"Accuracy difference: {accuracy_scaled - accuracy_no_scaling}\")\n",
    "\n",
    "if __name__ == \"__main__\":\n",
    "    logistic_regression_with_scaling()"
   ]
  },
  {
   "cell_type": "code",
   "execution_count": null,
   "id": "419a1bb7-4471-4f13-bc95-a09c8173d4ad",
   "metadata": {},
   "outputs": [],
   "source": []
  },
  {
   "cell_type": "markdown",
   "id": "26ae0441-f88c-4204-95cc-2d216b1f7f09",
   "metadata": {},
   "source": [
    "16). Write a Python program to train Logistic Regression and evaluate its performance using ROC-AUC score"
   ]
  },
  {
   "cell_type": "code",
   "execution_count": 136,
   "id": "2a5df2ff-0617-4afd-afc2-20cf31a554d3",
   "metadata": {},
   "outputs": [
    {
     "name": "stdout",
     "output_type": "stream",
     "text": [
      "ROC-AUC Score: 1.0\n"
     ]
    }
   ],
   "source": [
    "from sklearn.metrics import roc_auc_score\n",
    "\n",
    "def logistic_regression_roc_auc():\n",
    "    \"\"\"\n",
    "    Trains Logistic Regression and evaluates its performance using ROC-AUC score.\n",
    "    \"\"\"\n",
    "\n",
    "    np.random.seed(42)\n",
    "    X = np.random.rand(100, 2)\n",
    "    y = (X[:, 0] + X[:, 1] > 1).astype(int)\n",
    "\n",
    "    X_train, X_test, y_train, y_test = train_test_split(X, y, test_size=0.2, random_state=42)\n",
    "\n",
    "    logreg = LogisticRegression()\n",
    "    logreg.fit(X_train, y_train)\n",
    "\n",
    "    y_prob = logreg.predict_proba(X_test)[:, 1]\n",
    "\n",
    "    roc_auc = roc_auc_score(y_test, y_prob)\n",
    "\n",
    "    print(\"ROC-AUC Score:\", roc_auc)\n",
    "\n",
    "if __name__ == \"__main__\":\n",
    "    logistic_regression_roc_auc()"
   ]
  },
  {
   "cell_type": "code",
   "execution_count": null,
   "id": "d467a49a-6815-46ea-bab9-26150b8e342f",
   "metadata": {},
   "outputs": [],
   "source": []
  },
  {
   "cell_type": "markdown",
   "id": "fb092b5c-0ee3-499c-ac32-20ceed5ff2d8",
   "metadata": {},
   "source": [
    "17). Write a Python program to train Logistic Regression using a custom learning rate (C=0.5) and evaluate \n",
    "accuracy"
   ]
  },
  {
   "cell_type": "code",
   "execution_count": 139,
   "id": "96f14078-fc60-433c-917c-9e490f7678c5",
   "metadata": {},
   "outputs": [
    {
     "name": "stdout",
     "output_type": "stream",
     "text": [
      "Accuracy with C=0.5: 0.8\n"
     ]
    }
   ],
   "source": [
    "from sklearn.metrics import accuracy_score\n",
    "\n",
    "def logistic_regression_custom_c():\n",
    "    \"\"\"\n",
    "    Trains Logistic Regression using a custom learning rate (C=0.5) and evaluates accuracy.\n",
    "    \"\"\"\n",
    "\n",
    "    np.random.seed(42)\n",
    "    X = np.random.rand(100, 2)\n",
    "    y = (X[:, 0] + X[:, 1] > 1).astype(int)\n",
    "\n",
    "    X_train, X_test, y_train, y_test = train_test_split(X, y, test_size=0.2, random_state=42)\n",
    "\n",
    "    logreg = LogisticRegression(C=0.5)\n",
    "    logreg.fit(X_train, y_train)\n",
    "\n",
    "    y_pred = logreg.predict(X_test)\n",
    "\n",
    "    accuracy = accuracy_score(y_test, y_pred)\n",
    "    print(\"Accuracy with C=0.5:\", accuracy)\n",
    "\n",
    "if __name__ == \"__main__\":\n",
    "    logistic_regression_custom_c()"
   ]
  },
  {
   "cell_type": "code",
   "execution_count": null,
   "id": "4132e810-114a-436f-9de4-fe73cee41a6e",
   "metadata": {},
   "outputs": [],
   "source": []
  },
  {
   "cell_type": "markdown",
   "id": "eea50db7-3429-4014-b7cb-367f31ba3218",
   "metadata": {},
   "source": [
    "18). Write a Python program to train Logistic Regression and identify important features based on model \n",
    "coefficients"
   ]
  },
  {
   "cell_type": "code",
   "execution_count": 142,
   "id": "81411346-0da2-455d-a742-3e0d0fc72241",
   "metadata": {},
   "outputs": [
    {
     "name": "stdout",
     "output_type": "stream",
     "text": [
      "Feature Coefficients:\n",
      "Feature 1: 1.1227944430575938\n",
      "Feature 2: 3.5402152878985973\n",
      "Feature 3: -1.041608619627895\n",
      "Feature 4: -0.24632125481842648\n",
      "Feature 5: -0.3353753156261881\n",
      "\n",
      "Important Features (ranked by coefficient magnitude):\n",
      "Feature 2: Coefficient Magnitude = 3.5402152878985973\n",
      "Feature 1: Coefficient Magnitude = 1.1227944430575938\n",
      "Feature 3: Coefficient Magnitude = 1.041608619627895\n",
      "Feature 5: Coefficient Magnitude = 0.3353753156261881\n",
      "Feature 4: Coefficient Magnitude = 0.24632125481842648\n"
     ]
    }
   ],
   "source": [
    "import numpy as np\n",
    "from sklearn.model_selection import train_test_split\n",
    "from sklearn.linear_model import LogisticRegression\n",
    "\n",
    "def identify_important_features():\n",
    "    \"\"\"\n",
    "    Trains Logistic Regression and identifies important features based on model coefficients.\n",
    "    \"\"\"\n",
    "\n",
    "    np.random.seed(42)\n",
    "    num_features = 5\n",
    "    X = np.random.rand(100, num_features)\n",
    "    y = (X[:, 0] + 2 * X[:, 1] - 0.5 * X[:, 2] > 1).astype(int)  \n",
    "\n",
    "    X_train, X_test, y_train, y_test = train_test_split(X, y, test_size=0.2, random_state=42)\n",
    "\n",
    "    logreg = LogisticRegression()\n",
    "    logreg.fit(X_train, y_train)\n",
    "\n",
    "    coefficients = logreg.coef_[0] \n",
    "    print(\"Feature Coefficients:\")\n",
    "    for i, coef in enumerate(coefficients):\n",
    "        print(f\"Feature {i+1}: {coef}\")\n",
    "\n",
    "    feature_importance = [(abs(coef), i) for i, coef in enumerate(coefficients)]\n",
    "    feature_importance.sort(reverse=True)\n",
    "    print(\"\\nImportant Features (ranked by coefficient magnitude):\")\n",
    "    for abs_coef, feature_index in feature_importance:\n",
    "        print(f\"Feature {feature_index + 1}: Coefficient Magnitude = {abs_coef}\")\n",
    "\n",
    "if __name__ == \"__main__\":\n",
    "    identify_important_features()"
   ]
  },
  {
   "cell_type": "code",
   "execution_count": null,
   "id": "4ce143cc-6896-47e6-898f-5a71015996c8",
   "metadata": {},
   "outputs": [],
   "source": []
  },
  {
   "cell_type": "markdown",
   "id": "772f13cb-965a-4888-b7ca-e8de3b1160bc",
   "metadata": {},
   "source": [
    "19). Write a Python program to train Logistic Regression and evaluate its performance using Cohen’s Kappa \n",
    "Score"
   ]
  },
  {
   "cell_type": "code",
   "execution_count": 145,
   "id": "fbb0ad5f-dfd2-44cb-bbea-d4b5f97199a1",
   "metadata": {},
   "outputs": [
    {
     "name": "stdout",
     "output_type": "stream",
     "text": [
      "Cohen's Kappa Score: 0.7\n"
     ]
    }
   ],
   "source": [
    "import numpy as np\n",
    "from sklearn.model_selection import train_test_split\n",
    "from sklearn.linear_model import LogisticRegression\n",
    "from sklearn.metrics import cohen_kappa_score\n",
    "\n",
    "def logistic_regression_cohen_kappa():\n",
    "    \"\"\"\n",
    "    Trains Logistic Regression and evaluates its performance using Cohen's Kappa score.\n",
    "    \"\"\"\n",
    "\n",
    "    np.random.seed(42)\n",
    "    X = np.random.rand(100, 2)\n",
    "    y = (X[:, 0] + X[:, 1] > 1).astype(int)\n",
    "\n",
    "    X_train, X_test, y_train, y_test = train_test_split(X, y, test_size=0.2, random_state=42)\n",
    "\n",
    "    logreg = LogisticRegression()\n",
    "    logreg.fit(X_train, y_train)\n",
    "\n",
    "    y_pred = logreg.predict(X_test)\n",
    "\n",
    "    kappa = cohen_kappa_score(y_test, y_pred)\n",
    "\n",
    "    print(\"Cohen's Kappa Score:\", kappa)\n",
    "\n",
    "if __name__ == \"__main__\":\n",
    "    logistic_regression_cohen_kappa()"
   ]
  },
  {
   "cell_type": "code",
   "execution_count": null,
   "id": "ebfe9aab-7131-429a-adec-7e8fb1605203",
   "metadata": {},
   "outputs": [],
   "source": []
  },
  {
   "cell_type": "markdown",
   "id": "082b8a68-adbb-4d7e-a7cc-79c2a02c86b9",
   "metadata": {},
   "source": [
    "20). Write a Python program to train Logistic Regression and visualize the Precision-Recall Curve for binary \n",
    "classificatio:"
   ]
  },
  {
   "cell_type": "code",
   "execution_count": 153,
   "id": "51a3b6f3-0498-48e3-93e9-247d005b1f79",
   "metadata": {},
   "outputs": [
    {
     "data": {
      "image/png": "[encoded data removed]",
      "text/plain": [
       "<Figure size 800x600 with 1 Axes>"
      ]
     },
     "metadata": {},
     "output_type": "display_data"
    }
   ],
   "source": [
    "from sklearn.metrics import precision_recall_curve, auc\n",
    "\n",
    "def visualize_precision_recall_curve():\n",
    "    \"\"\"\n",
    "    Trains Logistic Regression and visualizes the Precision-Recall curve.\n",
    "    \"\"\"\n",
    "\n",
    "    np.random.seed(42)\n",
    "    X = np.random.rand(100, 2)\n",
    "    y = (X[:, 0] + X[:, 1] > 1).astype(int)\n",
    "\n",
    "    X_train, X_test, y_train, y_test = train_test_split(X, y, test_size=0.2, random_state=42)\n",
    "\n",
    "    logreg = LogisticRegression()\n",
    "    logreg.fit(X_train, y_train)\n",
    "\n",
    "    y_prob = logreg.predict_proba(X_test)[:, 1]\n",
    "\n",
    "    precision, recall, thresholds = precision_recall_curve(y_test, y_prob)\n",
    "\n",
    "    auc_pr = auc(recall, precision)\n",
    "\n",
    "    plt.figure(figsize=(8, 6))\n",
    "    plt.plot(recall, precision, label=f'Precision-Recall curve (AUC = {auc_pr:.2f})')\n",
    "    plt.xlabel('Recall')\n",
    "    plt.ylabel('Precision')\n",
    "    plt.title('Precision-Recall Curve')\n",
    "    plt.legend(loc='lower left')\n",
    "    plt.grid(True)\n",
    "    plt.show()\n",
    "\n",
    "if __name__ == \"__main__\":\n",
    "    visualize_precision_recall_curve()"
   ]
  },
  {
   "cell_type": "code",
   "execution_count": null,
   "id": "0a84a56f-41e3-4332-a2d0-7eb006ef0c64",
   "metadata": {},
   "outputs": [],
   "source": []
  },
  {
   "cell_type": "markdown",
   "id": "de8b6eac-fe83-4faa-b984-9a752714155e",
   "metadata": {},
   "source": [
    "21). Write a Python program to train Logistic Regression with different solvers (liblinear, saga, lbfgs) and compare \n",
    "their accuracy"
   ]
  },
  {
   "cell_type": "code",
   "execution_count": 151,
   "id": "bc793d2c-5114-4a1b-b941-b4b8719c7a40",
   "metadata": {},
   "outputs": [
    {
     "name": "stdout",
     "output_type": "stream",
     "text": [
      "Accuracy with solver 'liblinear': 0.9\n",
      "Accuracy with solver 'saga': 0.9\n",
      "Accuracy with solver 'lbfgs': 0.85\n",
      "\n",
      "Accuracy Comparison:\n",
      "liblinear: 0.9\n",
      "saga: 0.9\n",
      "lbfgs: 0.85\n"
     ]
    }
   ],
   "source": [
    "from sklearn.metrics import accuracy_score\n",
    "\n",
    "def compare_logistic_regression_solvers():\n",
    "    \"\"\"\n",
    "    Trains Logistic Regression with different solvers and compares their accuracy.\n",
    "    \"\"\"\n",
    "\n",
    "    np.random.seed(42)\n",
    "    X = np.random.rand(100, 2)\n",
    "    y = (X[:, 0] + X[:, 1] > 1).astype(int)\n",
    "\n",
    "    X_train, X_test, y_train, y_test = train_test_split(X, y, test_size=0.2, random_state=42)\n",
    "\n",
    "    solvers = ['liblinear', 'saga', 'lbfgs']\n",
    "    accuracies = {}\n",
    "\n",
    "    for solver in solvers:\n",
    "        try:\n",
    "            logreg = LogisticRegression(solver=solver, max_iter=1000)\n",
    "            logreg.fit(X_train, y_train)\n",
    "            y_pred = logreg.predict(X_test)\n",
    "            accuracy = accuracy_score(y_test, y_pred)\n",
    "            accuracies[solver] = accuracy\n",
    "            print(f\"Accuracy with solver '{solver}': {accuracy}\")\n",
    "        except Exception as e:\n",
    "            print(f\"Solver '{solver}' encountered an error: {e}\")\n",
    "\n",
    "    print(\"\\nAccuracy Comparison:\")\n",
    "    for solver, accuracy in accuracies.items():\n",
    "        print(f\"{solver}: {accuracy}\")\n",
    "\n",
    "if __name__ == \"__main__\":\n",
    "    compare_logistic_regression_solvers()"
   ]
  },
  {
   "cell_type": "code",
   "execution_count": null,
   "id": "ca4544f4-f786-4148-a795-4310ed1b3dc7",
   "metadata": {},
   "outputs": [],
   "source": []
  },
  {
   "cell_type": "markdown",
   "id": "eb66c03d-8bfd-4bd7-86c9-6ccf614e69af",
   "metadata": {},
   "source": [
    "22). Write a Python program to train Logistic Regression and evaluate its performance using Matthews \n",
    "Correlation Coefficient (MCC)"
   ]
  },
  {
   "cell_type": "code",
   "execution_count": 156,
   "id": "edaeda67-6dd6-4d9b-82ec-030991635b24",
   "metadata": {},
   "outputs": [
    {
     "name": "stdout",
     "output_type": "stream",
     "text": [
      "Matthews Correlation Coefficient (MCC): 0.7337993857053428\n"
     ]
    }
   ],
   "source": [
    "from sklearn.metrics import matthews_corrcoef\n",
    "\n",
    "def logistic_regression_mcc():\n",
    "    \"\"\"\n",
    "    Trains Logistic Regression and evaluates its performance using Matthews Correlation Coefficient (MCC).\n",
    "    \"\"\"\n",
    "\n",
    "    np.random.seed(42)\n",
    "    X = np.random.rand(100, 2)\n",
    "    y = (X[:, 0] + X[:, 1] > 1).astype(int)\n",
    "\n",
    "    X_train, X_test, y_train, y_test = train_test_split(X, y, test_size=0.2, random_state=42)\n",
    "\n",
    "    logreg = LogisticRegression()\n",
    "    logreg.fit(X_train, y_train)\n",
    "\n",
    "    y_pred = logreg.predict(X_test)\n",
    "\n",
    "    mcc = matthews_corrcoef(y_test, y_pred)\n",
    "\n",
    "    print(\"Matthews Correlation Coefficient (MCC):\", mcc)\n",
    "\n",
    "if __name__ == \"__main__\":\n",
    "    logistic_regression_mcc()"
   ]
  },
  {
   "cell_type": "code",
   "execution_count": null,
   "id": "47e615ba-e94e-45a7-998e-c89b221231ce",
   "metadata": {},
   "outputs": [],
   "source": []
  },
  {
   "cell_type": "markdown",
   "id": "35592a6c-1ce5-4230-a066-e77786a04e1a",
   "metadata": {},
   "source": [
    "23). Write a Python program to train Logistic Regression on both raw and standardized data. Compare their \n",
    "accuracy to see the impact of feature scaling"
   ]
  },
  {
   "cell_type": "code",
   "execution_count": 161,
   "id": "c6fa0678-2f30-407b-9507-67ece770561c",
   "metadata": {},
   "outputs": [
    {
     "name": "stdout",
     "output_type": "stream",
     "text": [
      "Accuracy on raw data: 1.0\n",
      "Accuracy on standardized data: 1.0\n",
      "\n",
      "Accuracy Comparison:\n",
      "Accuracy difference: 0.0\n"
     ]
    }
   ],
   "source": [
    "from sklearn.preprocessing import StandardScaler\n",
    "\n",
    "def compare_logistic_regression_scaling():\n",
    "    \"\"\"\n",
    "    Trains Logistic Regression on raw and standardized data and compares accuracy.\n",
    "    \"\"\"\n",
    "\n",
    "    np.random.seed(42)\n",
    "    X = np.random.rand(100, 2)\n",
    "    X[:, 0] *= 10  # Scale feature 1\n",
    "    y = (X[:, 0] + X[:, 1] > 5).astype(int)\n",
    "\n",
    "    X_train, X_test, y_train, y_test = train_test_split(X, y, test_size=0.2, random_state=42)\n",
    "\n",
    "    logreg_raw = LogisticRegression(max_iter=1000)\n",
    "    logreg_raw.fit(X_train, y_train)\n",
    "    y_pred_raw = logreg_raw.predict(X_test)\n",
    "    accuracy_raw = accuracy_score(y_test, y_pred_raw)\n",
    "    print(\"Accuracy on raw data:\", accuracy_raw)\n",
    "\n",
    "    scaler = StandardScaler()\n",
    "    X_train_scaled = scaler.fit_transform(X_train)\n",
    "    X_test_scaled = scaler.transform(X_test)\n",
    "\n",
    "    logreg_scaled = LogisticRegression(max_iter=1000)\n",
    "    logreg_scaled.fit(X_train_scaled, y_train)\n",
    "    y_pred_scaled = logreg_scaled.predict(X_test_scaled)\n",
    "    accuracy_scaled = accuracy_score(y_test, y_pred_scaled)\n",
    "    print(\"Accuracy on standardized data:\", accuracy_scaled)\n",
    "\n",
    "    print(\"\\nAccuracy Comparison:\")\n",
    "    print(f\"Accuracy difference: {accuracy_scaled - accuracy_raw}\")\n",
    "\n",
    "if __name__ == \"__main__\":\n",
    "    compare_logistic_regression_scaling()"
   ]
  },
  {
   "cell_type": "code",
   "execution_count": null,
   "id": "bc38e6b3-d440-4747-bd17-6ad10838b86f",
   "metadata": {},
   "outputs": [],
   "source": []
  },
  {
   "cell_type": "markdown",
   "id": "8a71594e-4648-470a-85a0-ef9195a23e36",
   "metadata": {},
   "source": [
    "24). Write a Python program to train Logistic Regression and find the optimal C (regularization strength) using \n",
    "cross-validation"
   ]
  },
  {
   "cell_type": "code",
   "execution_count": 166,
   "id": "b324d469-f877-41ab-9570-9cfce9558ef3",
   "metadata": {},
   "outputs": [
    {
     "name": "stdout",
     "output_type": "stream",
     "text": [
      "Best C: 545.5594781168514\n",
      "Test Accuracy with Best C: 0.95\n"
     ]
    }
   ],
   "source": [
    "from sklearn.model_selection import train_test_split, GridSearchCV\n",
    "from sklearn.metrics import accuracy_score\n",
    "\n",
    "def find_optimal_c():\n",
    "    \"\"\"\n",
    "    Trains Logistic Regression and finds the optimal C using cross-validation.\n",
    "    \"\"\"\n",
    "\n",
    "    np.random.seed(42)\n",
    "    X = np.random.rand(100, 2)\n",
    "    y = (X[:, 0] + X[:, 1] > 1).astype(int)\n",
    "\n",
    "    X_train, X_test, y_train, y_test = train_test_split(X, y, test_size=0.2, random_state=42)\n",
    "\n",
    "    param_grid = {'C': np.logspace(-4, 4, 20)} \n",
    "\n",
    "    logreg = LogisticRegression(max_iter=1000)\n",
    "\n",
    "    grid_search = GridSearchCV(logreg, param_grid, cv=5, scoring='accuracy')\n",
    "    grid_search.fit(X_train, y_train)\n",
    "\n",
    "    best_c = grid_search.best_params_['C']\n",
    "    best_model = grid_search.best_estimator_\n",
    "\n",
    "    y_pred = best_model.predict(X_test)\n",
    "\n",
    "    accuracy = accuracy_score(y_test, y_pred)\n",
    "    print(\"Best C:\", best_c)\n",
    "    print(\"Test Accuracy with Best C:\", accuracy)\n",
    "\n",
    "if __name__ == \"__main__\":\n",
    "    find_optimal_c()"
   ]
  },
  {
   "cell_type": "code",
   "execution_count": null,
   "id": "01fdd580-a8e9-4452-bfa2-6640e196f830",
   "metadata": {},
   "outputs": [],
   "source": []
  },
  {
   "cell_type": "markdown",
   "id": "8e64defd-54d1-4ff8-b3d8-67ade7419136",
   "metadata": {},
   "source": [
    "25). Write a Python program to train Logistic Regression, save the trained model using joblib, and load it again to \n",
    "make predictions"
   ]
  },
  {
   "cell_type": "code",
   "execution_count": 171,
   "id": "5e6b38ac-f15d-4016-be94-ddd7ec0c7018",
   "metadata": {},
   "outputs": [
    {
     "name": "stdout",
     "output_type": "stream",
     "text": [
      "Model saved as 'logistic_regression_model.joblib'\n",
      "Model loaded successfully.\n",
      "Accuracy with loaded model: 0.85\n"
     ]
    }
   ],
   "source": [
    "import joblib\n",
    "from sklearn.metrics import accuracy_score\n",
    "\n",
    "def train_save_load_logistic_regression():\n",
    "    \"\"\"\n",
    "    Trains Logistic Regression, saves the model using joblib, loads it, and makes predictions.\n",
    "    \"\"\"\n",
    "\n",
    "    np.random.seed(42)\n",
    "    X = np.random.rand(100, 2)\n",
    "    y = (X[:, 0] + X[:, 1] > 1).astype(int)\n",
    "\n",
    "    X_train, X_test, y_train, y_test = train_test_split(X, y, test_size=0.2, random_state=42)\n",
    "\n",
    "    logreg = LogisticRegression()\n",
    "    logreg.fit(X_train, y_train)\n",
    "\n",
    "    joblib.dump(logreg, 'logistic_regression_model.joblib')\n",
    "    print(\"Model saved as 'logistic_regression_model.joblib'\")\n",
    "\n",
    "    loaded_model = joblib.load('logistic_regression_model.joblib')\n",
    "    print(\"Model loaded successfully.\")\n",
    "\n",
    "    y_pred = loaded_model.predict(X_test)\n",
    "\n",
    "    accuracy = accuracy_score(y_test, y_pred)\n",
    "    print(\"Accuracy with loaded model:\", accuracy)\n",
    "\n",
    "if __name__ == \"__main__\":\n",
    "    train_save_load_logistic_regression()"
   ]
  }
 ],
 "metadata": {
  "kernelspec": {
   "display_name": "Python 3 (ipykernel)",
   "language": "python",
   "name": "python3"
  },
  "language_info": {
   "codemirror_mode": {
    "name": "ipython",
    "version": 3
   },
   "file_extension": ".py",
   "mimetype": "text/x-python",
   "name": "python",
   "nbconvert_exporter": "python",
   "pygments_lexer": "ipython3",
   "version": "3.12.4"
  }
 },
 "nbformat": 4,
 "nbformat_minor": 5
}
